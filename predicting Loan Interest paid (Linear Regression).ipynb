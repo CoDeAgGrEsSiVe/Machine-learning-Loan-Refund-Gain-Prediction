{
 "cells": [
  {
   "cell_type": "code",
   "execution_count": 1,
   "metadata": {},
   "outputs": [],
   "source": [
    "import  pandas as pd\n",
    "import numpy as np\n",
    "import seaborn as sns\n",
    "import statsmodels.api as sn\n",
    "import matplotlib.pyplot as plt\n",
    "from sklearn.linear_model import LinearRegression\n",
    "from sklearn.model_selection import train_test_split\n",
    "from sklearn import metrics\n",
    "from pandas import Series, DataFrame\n",
    "from pandas.plotting import scatter_matrix\n",
    "import warnings\n",
    "sns.set_style('whitegrid')\n",
    "%matplotlib inline\n",
    "warnings.filterwarnings('ignore')"
   ]
  },
  {
   "cell_type": "code",
   "execution_count": 2,
   "metadata": {},
   "outputs": [
    {
     "data": {
      "text/html": [
       "<div>\n",
       "<style scoped>\n",
       "    .dataframe tbody tr th:only-of-type {\n",
       "        vertical-align: middle;\n",
       "    }\n",
       "\n",
       "    .dataframe tbody tr th {\n",
       "        vertical-align: top;\n",
       "    }\n",
       "\n",
       "    .dataframe thead th {\n",
       "        text-align: right;\n",
       "    }\n",
       "</style>\n",
       "<table border=\"1\" class=\"dataframe\">\n",
       "  <thead>\n",
       "    <tr style=\"text-align: right;\">\n",
       "      <th></th>\n",
       "      <th>loan_number</th>\n",
       "      <th>amount_borrowed</th>\n",
       "      <th>term</th>\n",
       "      <th>borrower_rate</th>\n",
       "      <th>installment</th>\n",
       "      <th>grade</th>\n",
       "      <th>origination_date</th>\n",
       "      <th>listing_title</th>\n",
       "      <th>principal_balance</th>\n",
       "      <th>principal_paid</th>\n",
       "      <th>interest_paid</th>\n",
       "      <th>late_fees_paid</th>\n",
       "      <th>debt_sale_proceeds_received</th>\n",
       "      <th>last_payment_date</th>\n",
       "      <th>next_payment_due_date</th>\n",
       "      <th>days_past_due</th>\n",
       "      <th>loan_status_description</th>\n",
       "      <th>data_source</th>\n",
       "    </tr>\n",
       "  </thead>\n",
       "  <tbody>\n",
       "    <tr>\n",
       "      <td>0</td>\n",
       "      <td>10149342</td>\n",
       "      <td>27050.0</td>\n",
       "      <td>36</td>\n",
       "      <td>0.1099</td>\n",
       "      <td>885.46</td>\n",
       "      <td>B</td>\n",
       "      <td>2013-12-01T00:00</td>\n",
       "      <td>debt_consolidation</td>\n",
       "      <td>0.0</td>\n",
       "      <td>27050.0</td>\n",
       "      <td>4702.53</td>\n",
       "      <td>0.0</td>\n",
       "      <td>0.0</td>\n",
       "      <td>2016-07-01T00:00</td>\n",
       "      <td>2016-08-01T00:00</td>\n",
       "      <td>0</td>\n",
       "      <td>COMPLETED</td>\n",
       "      <td>Lending Club</td>\n",
       "    </tr>\n",
       "    <tr>\n",
       "      <td>1</td>\n",
       "      <td>10149488</td>\n",
       "      <td>4800.0</td>\n",
       "      <td>36</td>\n",
       "      <td>0.1099</td>\n",
       "      <td>157.13</td>\n",
       "      <td>B</td>\n",
       "      <td>2013-12-01T00:00</td>\n",
       "      <td>home_improvement</td>\n",
       "      <td>0.0</td>\n",
       "      <td>4800.0</td>\n",
       "      <td>357.52</td>\n",
       "      <td>0.0</td>\n",
       "      <td>0.0</td>\n",
       "      <td>2014-09-01T00:00</td>\n",
       "      <td>2014-10-01T00:00</td>\n",
       "      <td>0</td>\n",
       "      <td>COMPLETED</td>\n",
       "      <td>Lending Club</td>\n",
       "    </tr>\n",
       "    <tr>\n",
       "      <td>2</td>\n",
       "      <td>10148122</td>\n",
       "      <td>12000.0</td>\n",
       "      <td>36</td>\n",
       "      <td>0.0762</td>\n",
       "      <td>373.94</td>\n",
       "      <td>A</td>\n",
       "      <td>2013-12-01T00:00</td>\n",
       "      <td>debt_consolidation</td>\n",
       "      <td>0.0</td>\n",
       "      <td>12000.0</td>\n",
       "      <td>1397.54</td>\n",
       "      <td>0.0</td>\n",
       "      <td>0.0</td>\n",
       "      <td>2016-06-01T00:00</td>\n",
       "      <td>2016-07-01T00:00</td>\n",
       "      <td>0</td>\n",
       "      <td>COMPLETED</td>\n",
       "      <td>Lending Club</td>\n",
       "    </tr>\n",
       "    <tr>\n",
       "      <td>3</td>\n",
       "      <td>10119623</td>\n",
       "      <td>12000.0</td>\n",
       "      <td>36</td>\n",
       "      <td>0.1199</td>\n",
       "      <td>398.52</td>\n",
       "      <td>B</td>\n",
       "      <td>2013-12-01T00:00</td>\n",
       "      <td>debt_consolidation</td>\n",
       "      <td>0.0</td>\n",
       "      <td>12000.0</td>\n",
       "      <td>2346.48</td>\n",
       "      <td>0.0</td>\n",
       "      <td>0.0</td>\n",
       "      <td>2017-01-01T00:00</td>\n",
       "      <td>2017-02-01T00:00</td>\n",
       "      <td>0</td>\n",
       "      <td>COMPLETED</td>\n",
       "      <td>Lending Club</td>\n",
       "    </tr>\n",
       "    <tr>\n",
       "      <td>4</td>\n",
       "      <td>10159498</td>\n",
       "      <td>12000.0</td>\n",
       "      <td>36</td>\n",
       "      <td>0.0662</td>\n",
       "      <td>368.45</td>\n",
       "      <td>A</td>\n",
       "      <td>2013-12-01T00:00</td>\n",
       "      <td>debt_consolidation</td>\n",
       "      <td>0.0</td>\n",
       "      <td>12000.0</td>\n",
       "      <td>1263.95</td>\n",
       "      <td>0.0</td>\n",
       "      <td>0.0</td>\n",
       "      <td>2017-01-01T00:00</td>\n",
       "      <td>2017-02-01T00:00</td>\n",
       "      <td>0</td>\n",
       "      <td>COMPLETED</td>\n",
       "      <td>Lending Club</td>\n",
       "    </tr>\n",
       "  </tbody>\n",
       "</table>\n",
       "</div>"
      ],
      "text/plain": [
       "   loan_number  amount_borrowed  term  borrower_rate  installment grade  \\\n",
       "0     10149342          27050.0    36         0.1099       885.46     B   \n",
       "1     10149488           4800.0    36         0.1099       157.13     B   \n",
       "2     10148122          12000.0    36         0.0762       373.94     A   \n",
       "3     10119623          12000.0    36         0.1199       398.52     B   \n",
       "4     10159498          12000.0    36         0.0662       368.45     A   \n",
       "\n",
       "   origination_date       listing_title  principal_balance  principal_paid  \\\n",
       "0  2013-12-01T00:00  debt_consolidation                0.0         27050.0   \n",
       "1  2013-12-01T00:00    home_improvement                0.0          4800.0   \n",
       "2  2013-12-01T00:00  debt_consolidation                0.0         12000.0   \n",
       "3  2013-12-01T00:00  debt_consolidation                0.0         12000.0   \n",
       "4  2013-12-01T00:00  debt_consolidation                0.0         12000.0   \n",
       "\n",
       "   interest_paid  late_fees_paid  debt_sale_proceeds_received  \\\n",
       "0        4702.53             0.0                          0.0   \n",
       "1         357.52             0.0                          0.0   \n",
       "2        1397.54             0.0                          0.0   \n",
       "3        2346.48             0.0                          0.0   \n",
       "4        1263.95             0.0                          0.0   \n",
       "\n",
       "  last_payment_date next_payment_due_date  days_past_due  \\\n",
       "0  2016-07-01T00:00      2016-08-01T00:00              0   \n",
       "1  2014-09-01T00:00      2014-10-01T00:00              0   \n",
       "2  2016-06-01T00:00      2016-07-01T00:00              0   \n",
       "3  2017-01-01T00:00      2017-02-01T00:00              0   \n",
       "4  2017-01-01T00:00      2017-02-01T00:00              0   \n",
       "\n",
       "  loan_status_description   data_source  \n",
       "0               COMPLETED  Lending Club  \n",
       "1               COMPLETED  Lending Club  \n",
       "2               COMPLETED  Lending Club  \n",
       "3               COMPLETED  Lending Club  \n",
       "4               COMPLETED  Lending Club  "
      ]
     },
     "execution_count": 2,
     "metadata": {},
     "output_type": "execute_result"
    }
   ],
   "source": [
    "df = pd.read_csv('Desktop\\Master_Loan_Summary.csv')\n",
    "df.head()"
   ]
  },
  {
   "cell_type": "code",
   "execution_count": 3,
   "metadata": {},
   "outputs": [],
   "source": [
    "df = df.drop(columns = ['data_source'])"
   ]
  },
  {
   "cell_type": "code",
   "execution_count": 4,
   "metadata": {},
   "outputs": [],
   "source": [
    "df = df.drop(columns = ['loan_status_description'])"
   ]
  },
  {
   "cell_type": "code",
   "execution_count": 5,
   "metadata": {},
   "outputs": [],
   "source": [
    "df = df.drop(columns = ['days_past_due'])"
   ]
  },
  {
   "cell_type": "code",
   "execution_count": 6,
   "metadata": {},
   "outputs": [],
   "source": [
    "df = df.drop(columns = ['next_payment_due_date'])"
   ]
  },
  {
   "cell_type": "code",
   "execution_count": 7,
   "metadata": {},
   "outputs": [],
   "source": [
    "df = df.drop(columns = ['last_payment_date'])"
   ]
  },
  {
   "cell_type": "code",
   "execution_count": 8,
   "metadata": {},
   "outputs": [],
   "source": [
    "df = df.drop(columns = ['debt_sale_proceeds_received'])"
   ]
  },
  {
   "cell_type": "code",
   "execution_count": 9,
   "metadata": {},
   "outputs": [],
   "source": [
    "df = df.drop(columns = ['late_fees_paid'])"
   ]
  },
  {
   "cell_type": "code",
   "execution_count": 10,
   "metadata": {},
   "outputs": [],
   "source": [
    "df = df.drop(columns =['principal_balance'])"
   ]
  },
  {
   "cell_type": "code",
   "execution_count": 11,
   "metadata": {},
   "outputs": [],
   "source": [
    "df = df.drop(columns = ['listing_title'])"
   ]
  },
  {
   "cell_type": "code",
   "execution_count": 12,
   "metadata": {},
   "outputs": [],
   "source": [
    "df = df.drop(columns = ['grade'])"
   ]
  },
  {
   "cell_type": "code",
   "execution_count": 13,
   "metadata": {},
   "outputs": [],
   "source": [
    "df = df.drop(columns = ['term'])"
   ]
  },
  {
   "cell_type": "code",
   "execution_count": 14,
   "metadata": {},
   "outputs": [
    {
     "data": {
      "text/html": [
       "<div>\n",
       "<style scoped>\n",
       "    .dataframe tbody tr th:only-of-type {\n",
       "        vertical-align: middle;\n",
       "    }\n",
       "\n",
       "    .dataframe tbody tr th {\n",
       "        vertical-align: top;\n",
       "    }\n",
       "\n",
       "    .dataframe thead th {\n",
       "        text-align: right;\n",
       "    }\n",
       "</style>\n",
       "<table border=\"1\" class=\"dataframe\">\n",
       "  <thead>\n",
       "    <tr style=\"text-align: right;\">\n",
       "      <th></th>\n",
       "      <th>loan_number</th>\n",
       "      <th>amount_borrowed</th>\n",
       "      <th>borrower_rate</th>\n",
       "      <th>installment</th>\n",
       "      <th>origination_date</th>\n",
       "      <th>principal_paid</th>\n",
       "      <th>interest_paid</th>\n",
       "    </tr>\n",
       "  </thead>\n",
       "  <tbody>\n",
       "    <tr>\n",
       "      <td>0</td>\n",
       "      <td>10149342</td>\n",
       "      <td>27050.0</td>\n",
       "      <td>0.1099</td>\n",
       "      <td>885.46</td>\n",
       "      <td>2013-12-01T00:00</td>\n",
       "      <td>27050.0</td>\n",
       "      <td>4702.53</td>\n",
       "    </tr>\n",
       "    <tr>\n",
       "      <td>1</td>\n",
       "      <td>10149488</td>\n",
       "      <td>4800.0</td>\n",
       "      <td>0.1099</td>\n",
       "      <td>157.13</td>\n",
       "      <td>2013-12-01T00:00</td>\n",
       "      <td>4800.0</td>\n",
       "      <td>357.52</td>\n",
       "    </tr>\n",
       "    <tr>\n",
       "      <td>2</td>\n",
       "      <td>10148122</td>\n",
       "      <td>12000.0</td>\n",
       "      <td>0.0762</td>\n",
       "      <td>373.94</td>\n",
       "      <td>2013-12-01T00:00</td>\n",
       "      <td>12000.0</td>\n",
       "      <td>1397.54</td>\n",
       "    </tr>\n",
       "    <tr>\n",
       "      <td>3</td>\n",
       "      <td>10119623</td>\n",
       "      <td>12000.0</td>\n",
       "      <td>0.1199</td>\n",
       "      <td>398.52</td>\n",
       "      <td>2013-12-01T00:00</td>\n",
       "      <td>12000.0</td>\n",
       "      <td>2346.48</td>\n",
       "    </tr>\n",
       "    <tr>\n",
       "      <td>4</td>\n",
       "      <td>10159498</td>\n",
       "      <td>12000.0</td>\n",
       "      <td>0.0662</td>\n",
       "      <td>368.45</td>\n",
       "      <td>2013-12-01T00:00</td>\n",
       "      <td>12000.0</td>\n",
       "      <td>1263.95</td>\n",
       "    </tr>\n",
       "  </tbody>\n",
       "</table>\n",
       "</div>"
      ],
      "text/plain": [
       "   loan_number  amount_borrowed  borrower_rate  installment  origination_date  \\\n",
       "0     10149342          27050.0         0.1099       885.46  2013-12-01T00:00   \n",
       "1     10149488           4800.0         0.1099       157.13  2013-12-01T00:00   \n",
       "2     10148122          12000.0         0.0762       373.94  2013-12-01T00:00   \n",
       "3     10119623          12000.0         0.1199       398.52  2013-12-01T00:00   \n",
       "4     10159498          12000.0         0.0662       368.45  2013-12-01T00:00   \n",
       "\n",
       "   principal_paid  interest_paid  \n",
       "0         27050.0        4702.53  \n",
       "1          4800.0         357.52  \n",
       "2         12000.0        1397.54  \n",
       "3         12000.0        2346.48  \n",
       "4         12000.0        1263.95  "
      ]
     },
     "execution_count": 14,
     "metadata": {},
     "output_type": "execute_result"
    }
   ],
   "source": [
    "df.head()"
   ]
  },
  {
   "cell_type": "code",
   "execution_count": 15,
   "metadata": {},
   "outputs": [],
   "source": [
    "df['Total'] = df['principal_paid'] + df['interest_paid']"
   ]
  },
  {
   "cell_type": "code",
   "execution_count": 16,
   "metadata": {},
   "outputs": [
    {
     "data": {
      "text/html": [
       "<div>\n",
       "<style scoped>\n",
       "    .dataframe tbody tr th:only-of-type {\n",
       "        vertical-align: middle;\n",
       "    }\n",
       "\n",
       "    .dataframe tbody tr th {\n",
       "        vertical-align: top;\n",
       "    }\n",
       "\n",
       "    .dataframe thead th {\n",
       "        text-align: right;\n",
       "    }\n",
       "</style>\n",
       "<table border=\"1\" class=\"dataframe\">\n",
       "  <thead>\n",
       "    <tr style=\"text-align: right;\">\n",
       "      <th></th>\n",
       "      <th>loan_number</th>\n",
       "      <th>amount_borrowed</th>\n",
       "      <th>borrower_rate</th>\n",
       "      <th>installment</th>\n",
       "      <th>origination_date</th>\n",
       "      <th>principal_paid</th>\n",
       "      <th>interest_paid</th>\n",
       "      <th>Total</th>\n",
       "    </tr>\n",
       "  </thead>\n",
       "  <tbody>\n",
       "    <tr>\n",
       "      <td>0</td>\n",
       "      <td>10149342</td>\n",
       "      <td>27050.0</td>\n",
       "      <td>0.1099</td>\n",
       "      <td>885.46</td>\n",
       "      <td>2013-12-01T00:00</td>\n",
       "      <td>27050.0</td>\n",
       "      <td>4702.53</td>\n",
       "      <td>31752.53</td>\n",
       "    </tr>\n",
       "    <tr>\n",
       "      <td>1</td>\n",
       "      <td>10149488</td>\n",
       "      <td>4800.0</td>\n",
       "      <td>0.1099</td>\n",
       "      <td>157.13</td>\n",
       "      <td>2013-12-01T00:00</td>\n",
       "      <td>4800.0</td>\n",
       "      <td>357.52</td>\n",
       "      <td>5157.52</td>\n",
       "    </tr>\n",
       "    <tr>\n",
       "      <td>2</td>\n",
       "      <td>10148122</td>\n",
       "      <td>12000.0</td>\n",
       "      <td>0.0762</td>\n",
       "      <td>373.94</td>\n",
       "      <td>2013-12-01T00:00</td>\n",
       "      <td>12000.0</td>\n",
       "      <td>1397.54</td>\n",
       "      <td>13397.54</td>\n",
       "    </tr>\n",
       "    <tr>\n",
       "      <td>3</td>\n",
       "      <td>10119623</td>\n",
       "      <td>12000.0</td>\n",
       "      <td>0.1199</td>\n",
       "      <td>398.52</td>\n",
       "      <td>2013-12-01T00:00</td>\n",
       "      <td>12000.0</td>\n",
       "      <td>2346.48</td>\n",
       "      <td>14346.48</td>\n",
       "    </tr>\n",
       "    <tr>\n",
       "      <td>4</td>\n",
       "      <td>10159498</td>\n",
       "      <td>12000.0</td>\n",
       "      <td>0.0662</td>\n",
       "      <td>368.45</td>\n",
       "      <td>2013-12-01T00:00</td>\n",
       "      <td>12000.0</td>\n",
       "      <td>1263.95</td>\n",
       "      <td>13263.95</td>\n",
       "    </tr>\n",
       "  </tbody>\n",
       "</table>\n",
       "</div>"
      ],
      "text/plain": [
       "   loan_number  amount_borrowed  borrower_rate  installment  origination_date  \\\n",
       "0     10149342          27050.0         0.1099       885.46  2013-12-01T00:00   \n",
       "1     10149488           4800.0         0.1099       157.13  2013-12-01T00:00   \n",
       "2     10148122          12000.0         0.0762       373.94  2013-12-01T00:00   \n",
       "3     10119623          12000.0         0.1199       398.52  2013-12-01T00:00   \n",
       "4     10159498          12000.0         0.0662       368.45  2013-12-01T00:00   \n",
       "\n",
       "   principal_paid  interest_paid     Total  \n",
       "0         27050.0        4702.53  31752.53  \n",
       "1          4800.0         357.52   5157.52  \n",
       "2         12000.0        1397.54  13397.54  \n",
       "3         12000.0        2346.48  14346.48  \n",
       "4         12000.0        1263.95  13263.95  "
      ]
     },
     "execution_count": 16,
     "metadata": {},
     "output_type": "execute_result"
    }
   ],
   "source": [
    "df.head()"
   ]
  },
  {
   "cell_type": "code",
   "execution_count": 17,
   "metadata": {},
   "outputs": [],
   "source": [
    "df.to_csv('loan_data.csv', index = False)"
   ]
  },
  {
   "cell_type": "code",
   "execution_count": 18,
   "metadata": {},
   "outputs": [],
   "source": [
    "loan = pd.read_csv('loan_data.csv')"
   ]
  },
  {
   "cell_type": "code",
   "execution_count": 19,
   "metadata": {},
   "outputs": [
    {
     "data": {
      "text/html": [
       "<div>\n",
       "<style scoped>\n",
       "    .dataframe tbody tr th:only-of-type {\n",
       "        vertical-align: middle;\n",
       "    }\n",
       "\n",
       "    .dataframe tbody tr th {\n",
       "        vertical-align: top;\n",
       "    }\n",
       "\n",
       "    .dataframe thead th {\n",
       "        text-align: right;\n",
       "    }\n",
       "</style>\n",
       "<table border=\"1\" class=\"dataframe\">\n",
       "  <thead>\n",
       "    <tr style=\"text-align: right;\">\n",
       "      <th></th>\n",
       "      <th>loan_number</th>\n",
       "      <th>amount_borrowed</th>\n",
       "      <th>borrower_rate</th>\n",
       "      <th>installment</th>\n",
       "      <th>origination_date</th>\n",
       "      <th>principal_paid</th>\n",
       "      <th>interest_paid</th>\n",
       "      <th>Total</th>\n",
       "    </tr>\n",
       "  </thead>\n",
       "  <tbody>\n",
       "    <tr>\n",
       "      <td>0</td>\n",
       "      <td>10149342</td>\n",
       "      <td>27050.0</td>\n",
       "      <td>0.1099</td>\n",
       "      <td>885.46</td>\n",
       "      <td>2013-12-01T00:00</td>\n",
       "      <td>27050.0</td>\n",
       "      <td>4702.53</td>\n",
       "      <td>31752.53</td>\n",
       "    </tr>\n",
       "    <tr>\n",
       "      <td>1</td>\n",
       "      <td>10149488</td>\n",
       "      <td>4800.0</td>\n",
       "      <td>0.1099</td>\n",
       "      <td>157.13</td>\n",
       "      <td>2013-12-01T00:00</td>\n",
       "      <td>4800.0</td>\n",
       "      <td>357.52</td>\n",
       "      <td>5157.52</td>\n",
       "    </tr>\n",
       "    <tr>\n",
       "      <td>2</td>\n",
       "      <td>10148122</td>\n",
       "      <td>12000.0</td>\n",
       "      <td>0.0762</td>\n",
       "      <td>373.94</td>\n",
       "      <td>2013-12-01T00:00</td>\n",
       "      <td>12000.0</td>\n",
       "      <td>1397.54</td>\n",
       "      <td>13397.54</td>\n",
       "    </tr>\n",
       "    <tr>\n",
       "      <td>3</td>\n",
       "      <td>10119623</td>\n",
       "      <td>12000.0</td>\n",
       "      <td>0.1199</td>\n",
       "      <td>398.52</td>\n",
       "      <td>2013-12-01T00:00</td>\n",
       "      <td>12000.0</td>\n",
       "      <td>2346.48</td>\n",
       "      <td>14346.48</td>\n",
       "    </tr>\n",
       "    <tr>\n",
       "      <td>4</td>\n",
       "      <td>10159498</td>\n",
       "      <td>12000.0</td>\n",
       "      <td>0.0662</td>\n",
       "      <td>368.45</td>\n",
       "      <td>2013-12-01T00:00</td>\n",
       "      <td>12000.0</td>\n",
       "      <td>1263.95</td>\n",
       "      <td>13263.95</td>\n",
       "    </tr>\n",
       "  </tbody>\n",
       "</table>\n",
       "</div>"
      ],
      "text/plain": [
       "   loan_number  amount_borrowed  borrower_rate  installment  origination_date  \\\n",
       "0     10149342          27050.0         0.1099       885.46  2013-12-01T00:00   \n",
       "1     10149488           4800.0         0.1099       157.13  2013-12-01T00:00   \n",
       "2     10148122          12000.0         0.0762       373.94  2013-12-01T00:00   \n",
       "3     10119623          12000.0         0.1199       398.52  2013-12-01T00:00   \n",
       "4     10159498          12000.0         0.0662       368.45  2013-12-01T00:00   \n",
       "\n",
       "   principal_paid  interest_paid     Total  \n",
       "0         27050.0        4702.53  31752.53  \n",
       "1          4800.0         357.52   5157.52  \n",
       "2         12000.0        1397.54  13397.54  \n",
       "3         12000.0        2346.48  14346.48  \n",
       "4         12000.0        1263.95  13263.95  "
      ]
     },
     "execution_count": 19,
     "metadata": {},
     "output_type": "execute_result"
    }
   ],
   "source": [
    "loan.head()"
   ]
  },
  {
   "cell_type": "code",
   "execution_count": 20,
   "metadata": {},
   "outputs": [
    {
     "data": {
      "text/html": [
       "<div>\n",
       "<style scoped>\n",
       "    .dataframe tbody tr th:only-of-type {\n",
       "        vertical-align: middle;\n",
       "    }\n",
       "\n",
       "    .dataframe tbody tr th {\n",
       "        vertical-align: top;\n",
       "    }\n",
       "\n",
       "    .dataframe thead th {\n",
       "        text-align: right;\n",
       "    }\n",
       "</style>\n",
       "<table border=\"1\" class=\"dataframe\">\n",
       "  <thead>\n",
       "    <tr style=\"text-align: right;\">\n",
       "      <th></th>\n",
       "      <th>loan_number</th>\n",
       "      <th>amount_borrowed</th>\n",
       "      <th>borrower_rate</th>\n",
       "      <th>installment</th>\n",
       "      <th>principal_paid</th>\n",
       "      <th>interest_paid</th>\n",
       "      <th>Total</th>\n",
       "    </tr>\n",
       "  </thead>\n",
       "  <tbody>\n",
       "    <tr>\n",
       "      <td>count</td>\n",
       "      <td>2.875146e+06</td>\n",
       "      <td>2.875146e+06</td>\n",
       "      <td>2.875146e+06</td>\n",
       "      <td>2.875146e+06</td>\n",
       "      <td>2.875146e+06</td>\n",
       "      <td>2.875146e+06</td>\n",
       "      <td>2.875146e+06</td>\n",
       "    </tr>\n",
       "    <tr>\n",
       "      <td>mean</td>\n",
       "      <td>5.076601e+07</td>\n",
       "      <td>1.447258e+04</td>\n",
       "      <td>1.382498e-01</td>\n",
       "      <td>4.335797e+02</td>\n",
       "      <td>8.433969e+03</td>\n",
       "      <td>2.214817e+03</td>\n",
       "      <td>1.064879e+04</td>\n",
       "    </tr>\n",
       "    <tr>\n",
       "      <td>std</td>\n",
       "      <td>4.813839e+07</td>\n",
       "      <td>8.763608e+03</td>\n",
       "      <td>5.515687e-02</td>\n",
       "      <td>2.565165e+02</td>\n",
       "      <td>7.940062e+03</td>\n",
       "      <td>2.430349e+03</td>\n",
       "      <td>9.375736e+03</td>\n",
       "    </tr>\n",
       "    <tr>\n",
       "      <td>min</td>\n",
       "      <td>5.571600e+04</td>\n",
       "      <td>1.000000e+03</td>\n",
       "      <td>5.310000e-02</td>\n",
       "      <td>4.930000e+00</td>\n",
       "      <td>-1.500000e+01</td>\n",
       "      <td>-8.255100e+00</td>\n",
       "      <td>-1.500000e+01</td>\n",
       "    </tr>\n",
       "    <tr>\n",
       "      <td>25%</td>\n",
       "      <td>8.654122e+05</td>\n",
       "      <td>8.000000e+03</td>\n",
       "      <td>9.920000e-02</td>\n",
       "      <td>2.481491e+02</td>\n",
       "      <td>2.250702e+03</td>\n",
       "      <td>6.334700e+02</td>\n",
       "      <td>3.419890e+03</td>\n",
       "    </tr>\n",
       "    <tr>\n",
       "      <td>50%</td>\n",
       "      <td>4.516220e+07</td>\n",
       "      <td>1.200000e+04</td>\n",
       "      <td>1.299000e-01</td>\n",
       "      <td>3.732400e+02</td>\n",
       "      <td>6.000000e+03</td>\n",
       "      <td>1.425910e+03</td>\n",
       "      <td>7.995220e+03</td>\n",
       "    </tr>\n",
       "    <tr>\n",
       "      <td>75%</td>\n",
       "      <td>9.391978e+07</td>\n",
       "      <td>2.000000e+04</td>\n",
       "      <td>1.677000e-01</td>\n",
       "      <td>5.718100e+02</td>\n",
       "      <td>1.200000e+04</td>\n",
       "      <td>2.891568e+03</td>\n",
       "      <td>1.539516e+04</td>\n",
       "    </tr>\n",
       "    <tr>\n",
       "      <td>max</td>\n",
       "      <td>1.360671e+08</td>\n",
       "      <td>4.000000e+04</td>\n",
       "      <td>3.192000e-01</td>\n",
       "      <td>2.251506e+03</td>\n",
       "      <td>4.000000e+04</td>\n",
       "      <td>2.788480e+04</td>\n",
       "      <td>6.288480e+04</td>\n",
       "    </tr>\n",
       "  </tbody>\n",
       "</table>\n",
       "</div>"
      ],
      "text/plain": [
       "        loan_number  amount_borrowed  borrower_rate   installment  \\\n",
       "count  2.875146e+06     2.875146e+06   2.875146e+06  2.875146e+06   \n",
       "mean   5.076601e+07     1.447258e+04   1.382498e-01  4.335797e+02   \n",
       "std    4.813839e+07     8.763608e+03   5.515687e-02  2.565165e+02   \n",
       "min    5.571600e+04     1.000000e+03   5.310000e-02  4.930000e+00   \n",
       "25%    8.654122e+05     8.000000e+03   9.920000e-02  2.481491e+02   \n",
       "50%    4.516220e+07     1.200000e+04   1.299000e-01  3.732400e+02   \n",
       "75%    9.391978e+07     2.000000e+04   1.677000e-01  5.718100e+02   \n",
       "max    1.360671e+08     4.000000e+04   3.192000e-01  2.251506e+03   \n",
       "\n",
       "       principal_paid  interest_paid         Total  \n",
       "count    2.875146e+06   2.875146e+06  2.875146e+06  \n",
       "mean     8.433969e+03   2.214817e+03  1.064879e+04  \n",
       "std      7.940062e+03   2.430349e+03  9.375736e+03  \n",
       "min     -1.500000e+01  -8.255100e+00 -1.500000e+01  \n",
       "25%      2.250702e+03   6.334700e+02  3.419890e+03  \n",
       "50%      6.000000e+03   1.425910e+03  7.995220e+03  \n",
       "75%      1.200000e+04   2.891568e+03  1.539516e+04  \n",
       "max      4.000000e+04   2.788480e+04  6.288480e+04  "
      ]
     },
     "execution_count": 20,
     "metadata": {},
     "output_type": "execute_result"
    }
   ],
   "source": [
    "loan.describe()"
   ]
  },
  {
   "cell_type": "code",
   "execution_count": 21,
   "metadata": {},
   "outputs": [
    {
     "name": "stdout",
     "output_type": "stream",
     "text": [
      "<class 'pandas.core.frame.DataFrame'>\n",
      "RangeIndex: 2875146 entries, 0 to 2875145\n",
      "Data columns (total 8 columns):\n",
      "loan_number         int64\n",
      "amount_borrowed     float64\n",
      "borrower_rate       float64\n",
      "installment         float64\n",
      "origination_date    object\n",
      "principal_paid      float64\n",
      "interest_paid       float64\n",
      "Total               float64\n",
      "dtypes: float64(6), int64(1), object(1)\n",
      "memory usage: 175.5+ MB\n"
     ]
    }
   ],
   "source": [
    "loan.info()"
   ]
  },
  {
   "cell_type": "code",
   "execution_count": 22,
   "metadata": {},
   "outputs": [
    {
     "data": {
      "image/png": "[encoded data removed]",
      "text/plain": [
       "<Figure size 432x288 with 1 Axes>"
      ]
     },
     "metadata": {
      "needs_background": "light"
     },
     "output_type": "display_data"
    }
   ],
   "source": [
    "sns.scatterplot(x = 'loan_number', y = 'Total', data = loan)\n",
    "plt.show()"
   ]
  },
  {
   "cell_type": "code",
   "execution_count": 23,
   "metadata": {},
   "outputs": [
    {
     "data": {
      "text/plain": [
       "(2875146, 8)"
      ]
     },
     "execution_count": 23,
     "metadata": {},
     "output_type": "execute_result"
    }
   ],
   "source": [
    "loan.shape"
   ]
  },
  {
   "cell_type": "code",
   "execution_count": 24,
   "metadata": {},
   "outputs": [
    {
     "data": {
      "image/png": "[encoded data removed]",
      "text/plain": [
       "<Figure size 432x288 with 2 Axes>"
      ]
     },
     "metadata": {
      "needs_background": "light"
     },
     "output_type": "display_data"
    }
   ],
   "source": [
    "sns.heatmap(loan.corr())\n",
    "plt.show()"
   ]
  },
  {
   "cell_type": "code",
   "execution_count": 25,
   "metadata": {},
   "outputs": [
    {
     "data": {
      "image/png": "[encoded data removed]",
      "text/plain": [
       "<Figure size 432x288 with 1 Axes>"
      ]
     },
     "metadata": {
      "needs_background": "light"
     },
     "output_type": "display_data"
    }
   ],
   "source": [
    "intr = loan['interest_paid']\n",
    "intr.hist(bins= 20)\n",
    "plt.show()"
   ]
  },
  {
   "cell_type": "code",
   "execution_count": 26,
   "metadata": {},
   "outputs": [],
   "source": [
    "#analysing mutivarial "
   ]
  },
  {
   "cell_type": "code",
   "execution_count": 27,
   "metadata": {},
   "outputs": [],
   "source": [
    "nav = pd.read_csv('loan_data.csv')"
   ]
  },
  {
   "cell_type": "code",
   "execution_count": 28,
   "metadata": {},
   "outputs": [],
   "source": [
    "amount_borrowed = nav['amount_borrowed']\n",
    "principal_paid = nav['principal_paid']\n",
    "interest_paid = nav['interest_paid']"
   ]
  },
  {
   "cell_type": "code",
   "execution_count": 29,
   "metadata": {},
   "outputs": [],
   "source": [
    "y = np.matrix(amount_borrowed).transpose()\n",
    "x1 = np.matrix(principal_paid).transpose()\n",
    "x2 = np.matrix(interest_paid).transpose()"
   ]
  },
  {
   "cell_type": "code",
   "execution_count": 30,
   "metadata": {},
   "outputs": [],
   "source": [
    "x = np.column_stack([x1,x2])"
   ]
  },
  {
   "cell_type": "code",
   "execution_count": 31,
   "metadata": {},
   "outputs": [],
   "source": [
    "x3 = sn.add_constant(x)"
   ]
  },
  {
   "cell_type": "code",
   "execution_count": 32,
   "metadata": {},
   "outputs": [],
   "source": [
    "#OLSa odinary list square"
   ]
  },
  {
   "cell_type": "code",
   "execution_count": 33,
   "metadata": {},
   "outputs": [],
   "source": [
    "model = sn.OLS(y,x3)"
   ]
  },
  {
   "cell_type": "code",
   "execution_count": 34,
   "metadata": {},
   "outputs": [],
   "source": [
    "model_fit = model.fit()"
   ]
  },
  {
   "cell_type": "code",
   "execution_count": 35,
   "metadata": {},
   "outputs": [
    {
     "name": "stdout",
     "output_type": "stream",
     "text": [
      "the p is known as:  [0. 0. 0.]\n",
      " The R- squared value is: 0.42281079804395916\n"
     ]
    }
   ],
   "source": [
    "print (\"the p is known as: \", model_fit.pvalues)\n",
    "\n",
    "print (\" The R- squared value is:\", model_fit.rsquared )# How well the regress line appr the data"
   ]
  },
  {
   "cell_type": "code",
   "execution_count": null,
   "metadata": {},
   "outputs": [],
   "source": []
  }
 ],
 "metadata": {
  "kernelspec": {
   "display_name": "Python 3",
   "language": "python",
   "name": "python3"
  },
  "language_info": {
   "codemirror_mode": {
    "name": "ipython",
    "version": 3
   },
   "file_extension": ".py",
   "mimetype": "text/x-python",
   "name": "python",
   "nbconvert_exporter": "python",
   "pygments_lexer": "ipython3",
   "version": "3.7.4"
  }
 },
 "nbformat": 4,
 "nbformat_minor": 2
}
